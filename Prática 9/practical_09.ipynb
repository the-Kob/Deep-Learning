{
 "cells": [
  {
   "cell_type": "markdown",
   "id": "94ce8f61",
   "metadata": {},
   "source": [
    "# Practical 09 - Recurrent Neural Networks\n",
    "\n",
    "**Disclamer**: Some material from the suggested exercises were retrieved and adapted from the following sources:\n",
    "* [Coursera Sequence Models course by DeepLearningAI](https://www.coursera.org/learn/nlp-sequence-models)\n",
    "* [Pytorch Tutorial for RNNs](https://pytorch.org/tutorials/intermediate/char_rnn_generation_tutorial.html)\n",
    "* [Pytorch Sentiment Analysis Tutorial](https://github.com/bentrevett/pytorch-sentiment-analysis)"
   ]
  },
  {
   "cell_type": "code",
   "execution_count": 1,
   "id": "c787d01b",
   "metadata": {},
   "outputs": [],
   "source": [
    "import numpy as np\n",
    "\n",
    "np.random.seed(1)"
   ]
  },
  {
   "cell_type": "markdown",
   "id": "d47c74d5",
   "metadata": {},
   "source": [
    "## Question 01\n"
   ]
  },
  {
   "cell_type": "markdown",
   "id": "9c7dd504",
   "metadata": {},
   "source": [
    "Perform a forward propagation for \n",
    "\n",
    "$ x^{(1)} = \\begin{bmatrix} \\begin{pmatrix}\n",
    "4 \\\\ 0 \\\\ 0 \\\\ 0\n",
    "\\end{pmatrix}, \n",
    " \\begin{pmatrix}\n",
    "0 \\\\ 8 \\\\ 2 \\\\ 0\n",
    "\\end{pmatrix}\n",
    "\\end{bmatrix}\n",
    "$\n",
    "\n",
    "With targets:\n",
    "\n",
    "$ t^{(1)} = \\begin{bmatrix} \\begin{pmatrix}\n",
    "1 \\\\ 0\n",
    "\\end{pmatrix}, \n",
    " \\begin{pmatrix}\n",
    "0 \\\\ 1\n",
    "\\end{pmatrix}\n",
    "\\end{bmatrix}\n",
    "$\n",
    "\n",
    "Initialize all weights and biases to 0.1, using 3 units per hidden layer, initializing the hidden state to all zeros and using η = 1.0.\n",
    "\n",
    "----"
   ]
  },
  {
   "cell_type": "markdown",
   "id": "4a42d2ad",
   "metadata": {},
   "source": [
    "A Recurrent neural network can be seen as the repetition of a single cell. We are first going to implement the computations for a single time-step. The following figure describes the operations for a single time-step of an RNN cell. \n",
    "\n",
    "<img src=\"forward-net.png\" style=\"width:700px;height:300px;\">"
   ]
  },
  {
   "cell_type": "markdown",
   "id": "6d1c935e",
   "metadata": {},
   "source": [
    "\n",
    "**Steps to code the RNN cell**:\n",
    "1. Compute the hidden state with tanh activation: $a^{\\langle t \\rangle} = \\tanh(W_{aa} a^{\\langle t-1 \\rangle} + W_{ax} x^{\\langle t \\rangle} + b_a)$.\n",
    "2. Using your new hidden state $a^{\\langle t \\rangle}$, compute the prediction $\\hat{y}^{\\langle t \\rangle} = softmax(W_{ya} a^{\\langle t \\rangle} + b_y)$.\n",
    "3. Return $a^{\\langle t \\rangle}$ and $y^{\\langle t \\rangle}$ \n"
   ]
  },
  {
   "cell_type": "code",
   "execution_count": 2,
   "id": "74b7c254",
   "metadata": {},
   "outputs": [],
   "source": [
    "def softmax(x):\n",
    "    e_x = np.exp(x - np.max(x))\n",
    "    return e_x / e_x.sum(axis=0)\n",
    "\n",
    "\n",
    "def rnn_cell_forward(xt, a_prev, Wax, Waa, Wya, ba, by):\n",
    "    \"\"\"\n",
    "    Implements a single forward step of the RNN-cell\n",
    "    \n",
    "    Arguments:\n",
    "        xt -- your input data at timestep \"t\", numpy array of shape (n_x).\n",
    "        a_prev -- Hidden state at timestep \"t-1\", numpy array of shape (n_a)\n",
    "        Wax -- Weight matrix multiplying the input, numpy array of shape (n_a, n_x)\n",
    "        Waa -- Weight matrix multiplying the hidden state, numpy array of shape (n_a, n_a)\n",
    "        Wya -- Weight matrix relating the hidden-state to the output, numpy array of shape (n_y, n_a)\n",
    "        ba --  Bias, numpy array of shape (n_a, 1)\n",
    "        by -- Bias relating the hidden-state to the output, numpy array of shape (n_y, 1)\n",
    "\n",
    "    Returns:\n",
    "        a_next -- next hidden state, of shape (n_a)\n",
    "        yt_pred -- prediction at timestep \"t\", numpy array of shape (n_y)\n",
    "\n",
    "    \"\"\"\n",
    "    \n",
    "    # compute next activation state\n",
    "    a_next = np.tanh(np.dot(Wax, xt) + np.dot(Waa, a_prev) + ba)\n",
    "    \n",
    "    # compute output of the current cell\n",
    "    yt_pred = softmax(np.dot(Wya, a_next) + by)\n",
    "\n",
    "    return a_next, yt_pred"
   ]
  },
  {
   "cell_type": "markdown",
   "id": "bf3a0603",
   "metadata": {},
   "source": [
    "You can see an RNN as the repetition of the cell you've just built. If your input sequence of data is carried over 10 time steps, then you will copy the RNN cell 10 times. Each cell takes as input the hidden state from the previous cell ($a^{\\langle t-1 \\rangle}$) and the current time-step's input data ($x^{\\langle t \\rangle}$). It outputs a hidden state ($a^{\\langle t \\rangle}$) and a prediction ($y^{\\langle t \\rangle}$) for this time-step.\n",
    "\n",
    "\n",
    "<img src=\"rnn_forward.png\" style=\"width:800px;height:300px;\">\n",
    "\n",
    "\n",
    "\n",
    "Now, we are going to code the RNN forward propagation over the sequence\n",
    "\n",
    "**Steps**:\n",
    "1. Create a vector of zeros ($a$) that will store all the hidden states computed by the RNN.\n",
    "2. Initialize the \"next\" hidden state as $a_0$ (initial hidden state).\n",
    "3. Start looping over each time step, your incremental index is $t$ :\n",
    "    - Update the \"next\" hidden state and the cache by running `rnn_cell_forward`\n",
    "    - Keep a history of the parameters for the gradient update\n",
    "    - Store the \"next\" hidden state in $a$ ($t^{th}$ position) \n",
    "    - Store the prediction in y\n",
    "4. Return $a$, $y$ and history"
   ]
  },
  {
   "cell_type": "code",
   "execution_count": 3,
   "id": "35d73175",
   "metadata": {},
   "outputs": [],
   "source": [
    "def rnn_forward(x, a0, Wax, Waa, Wya, ba, by):\n",
    "    \"\"\"\n",
    "    Implement the forward propagation of the recurrent neural network\n",
    "\n",
    "    Arguments:\n",
    "        x -- Input data for every time-step, of shape (n_x, m, T_x).\n",
    "        a0 -- Initial hidden state, of shape (n_a, m)\n",
    "        Waa -- Weight matrix multiplying the hidden state, numpy array of shape (n_a, n_a)\n",
    "        Wax -- Weight matrix multiplying the input, numpy array of shape (n_a, n_x)\n",
    "        Wya -- Weight matrix relating the hidden-state to the output, numpy array of shape (n_y, n_a)\n",
    "        ba --  Bias numpy array of shape (n_a, 1)\n",
    "        by -- Bias relating the hidden-state to the output, numpy array of shape (n_y, 1)\n",
    "\n",
    "    Returns:\n",
    "        a -- Hidden states for every time-step, numpy array of shape (n_a, m, T_x)\n",
    "        y_pred -- Predictions for every time-step, numpy array of shape (n_y, m, T_x)\n",
    "        history -- tuple of values needed for the backward pass, contains (list of caches, x)\n",
    "    \"\"\"\n",
    "    \n",
    "    # Initialize \"history\" which will contain the list the parameters in each time-step\n",
    "    history = []\n",
    "    \n",
    "    # Retrieve dimensions from shapes of x and Wy\n",
    "    n_x, T_x = x.shape\n",
    "    n_y, n_a = Wya.shape\n",
    "        \n",
    "    # initialize \"a\" and \"y_pred\" with zeros\n",
    "    a = np.zeros((n_a, T_x))\n",
    "    y_pred = np.zeros((n_y, T_x))\n",
    "    \n",
    "    # Initialize a_next\n",
    "    a_next = a0\n",
    "    \n",
    "    # loop over all time-steps\n",
    "    for t in range(T_x):\n",
    "        \n",
    "        # Update next hidden state, compute the prediction\n",
    "        a_prev = a_next\n",
    "        a_next, yt_pred = rnn_cell_forward(x[:,t], a_next, Wax, Waa, Wya, ba, by)\n",
    "            \n",
    "        # Store the time-step in the history\n",
    "        step_parms = (a_next, a_prev, x[:,t], Wax, Waa, Wya, ba, by)\n",
    "        history.append(step_parms)\n",
    "\n",
    "        # Save the value of the new \"next\" hidden state in a (≈1 line)\n",
    "        a[:, t] = a_next\n",
    "        \n",
    "        # Save the value of the prediction in y\n",
    "        y_pred[:, t] = yt_pred\n",
    "\n",
    "    return a, y_pred, history"
   ]
  },
  {
   "cell_type": "code",
   "execution_count": 4,
   "id": "08d5213c",
   "metadata": {},
   "outputs": [],
   "source": [
    "# Let's run the rnn_forward for a sequence of 10 elements.\n",
    "inputs = np.array([[4, 0, 0, 0], [0, 8, 2, 0]]).transpose()\n",
    "\n",
    "a0 = .1 * np.ones(3)\n",
    "Waa = .1 * np.ones((3,3))\n",
    "Wax = .1 * np.ones((3,4))\n",
    "Wya = .1 * np.ones((2,3))\n",
    "ba = .1 * np.ones(3)\n",
    "by = .1 * np.ones(2)"
   ]
  },
  {
   "cell_type": "code",
   "execution_count": 5,
   "id": "e6cd3130",
   "metadata": {},
   "outputs": [
    {
     "name": "stdout",
     "output_type": "stream",
     "text": [
      "a =  [[0.48538109 0.84704925]\n",
      " [0.48538109 0.84704925]\n",
      " [0.48538109 0.84704925]]\n",
      "a.shape =  (3, 2)\n",
      "\n",
      "y_pred = [[0.5 0.5]\n",
      " [0.5 0.5]]\n",
      "y_pred.shape =  (2, 2)\n"
     ]
    }
   ],
   "source": [
    "a, y_pred, history = rnn_forward(inputs, a0, Wax, Waa, Wya, ba, by)\n",
    "\n",
    "print(\"a = \", a)\n",
    "print(\"a.shape = \", a.shape)\n",
    "print()\n",
    "print(\"y_pred =\", y_pred)\n",
    "print(\"y_pred.shape = \", y_pred.shape)\n"
   ]
  },
  {
   "cell_type": "markdown",
   "id": "c69eec4a",
   "metadata": {},
   "source": [
    "## Question 02\n",
    "\n",
    "Use PyTorch to implement an RNN cell and use it to generate random person names using the file `names.txt` as training examples."
   ]
  },
  {
   "cell_type": "code",
   "execution_count": 6,
   "id": "d2f2052f",
   "metadata": {},
   "outputs": [],
   "source": [
    "import torch\n",
    "import torch.nn as nn\n",
    "from torch import optim\n",
    "\n",
    "\n",
    "# Vanilla RNN implementation\n",
    "class RNN(nn.Module):\n",
    "    def __init__(self, input_size, hidden_size, output_size):\n",
    "        super(RNN, self).__init__()\n",
    "        self.hidden_size = hidden_size\n",
    "        self.i2h = nn.Linear(input_size + hidden_size, hidden_size)\n",
    "        self.tanh= nn.Tanh()\n",
    "        self.o2o = nn.Linear(hidden_size, output_size)\n",
    "        self.initial_hidden = nn.Parameter(\n",
    "            torch.zeros(1, hidden_size)\n",
    "        )\n",
    "        self.softmax = nn.LogSoftmax(dim=1)\n",
    "\n",
    "    def single_forward(self, input, hidden):\n",
    "        input_combined = torch.cat((input, hidden), 1)\n",
    "        hidden = self.tanh(self.i2h(input_combined))\n",
    "        output = self.o2o(hidden)\n",
    "        output = self.softmax(output)\n",
    "        return output, hidden\n",
    "    \n",
    "    def forward(self, input_line_tensor):\n",
    "        \n",
    "        outputs = []\n",
    "        \n",
    "        hidden = self.initial_hidden\n",
    "        \n",
    "        for x_t in input_line_tensor:\n",
    "            output, hidden = self.single_forward(\n",
    "                x_t, hidden)\n",
    "            outputs.append(output)\n",
    "            \n",
    "        return outputs\n",
    "            "
   ]
  },
  {
   "cell_type": "code",
   "execution_count": 7,
   "id": "7746d482",
   "metadata": {},
   "outputs": [
    {
     "name": "stdout",
     "output_type": "stream",
     "text": [
      "['francisco', 'maria', 'joão', 'leonor', 'afonso', 'matilde', 'tomás', 'carolina', 'duarte', 'alice', 'gabriel', 'benedita', 'santiago', 'beatriz', 'lourenço', 'mariana', 'rodrigo', 'francisca', 'miguel', 'sofia', 'martim', 'margarida', 'vicente', 'laura', 'mateus', 'camila', 'lucas', 'clara', 'guilherme', 'ana', 'salvador', 'inês', 'pedro', 'lara', 'gonçalo', 'madalena', 'dinis', 'diana', 'rafael', 'vitória', 'gustavo', 'constança', 'bernardo', 'eva', 'josé', 'mafalda', 'diogo', 'gabriela', 'manuel', 'bianca', 'tiago', 'valentina', 'vasco', 'joana', 'henrique', 'íris', 'simão', 'sara', 'diego', 'luana', 'antónio', 'ariana', 'david', 'letícia', 'daniel', 'rita', 'leonardo', 'júlia', 'enzo', 'carlota', 'xavier', 'carminho', 'eduardo', 'luísa', 'andré', 'ema', 'luís', 'olívia', 'isaac', 'helena', 'matias', 'yara', 'valentim', 'aurora', 'artur', 'yasmin', 'samuel', 'emma', 'kevin', 'teresa', 'frederico', 'mara', 'filipe', 'catarina', 'matheus', 'caetana', 'lorenzo', 'melissa', 'noah', 'alícia', 'alexandre', 'isabel', 'benjamim', 'noa', 'davi', 'marta', 'bryan', 'victória', 'sebastião', 'iara', 'ricardo', 'alana', 'joaquim', 'amélia', 'carlos', 'pilar', 'leandro', 'daniela', 'nicole']\n"
     ]
    }
   ],
   "source": [
    "# all letters to work with the Portuguese names from the train file\n",
    "all_letters = 'abcdefghijklmnopqrstuvxwyzáàãçéêíóõôú'\n",
    "n_letters = len(all_letters) + 1 # Plus EOS marker\n",
    "\n",
    "# One-hot matrix of first to last letters (not including EOS) for input\n",
    "def inputTensor(line):\n",
    "    tensor = torch.zeros(len(line), 1, n_letters)\n",
    "    for li in range(len(line)):\n",
    "        letter = line[li]\n",
    "        tensor[li][0][all_letters.find(letter)] = 1\n",
    "    return tensor\n",
    "\n",
    "# LongTensor of second letter to end (EOS) for target\n",
    "def targetTensor(line):\n",
    "    letter_indexes = [all_letters.find(line[li]) for li in range(1, len(line))]\n",
    "    letter_indexes.append(n_letters - 1) # EOS\n",
    "    return torch.LongTensor(letter_indexes).unsqueeze(-1)\n",
    "\n",
    "# Read the list of names\n",
    "with open(\"names.txt\") as file:\n",
    "    names = [name.lower().strip() for name in file.readlines()]   \n",
    "    \n",
    "print(names)"
   ]
  },
  {
   "cell_type": "code",
   "execution_count": 8,
   "id": "c9b02b0f",
   "metadata": {},
   "outputs": [
    {
     "name": "stderr",
     "output_type": "stream",
     "text": [
      "100%|██████████| 500/500 [01:34<00:00,  5.29it/s]\n"
     ]
    }
   ],
   "source": [
    "from tqdm import tqdm\n",
    "from random import shuffle, choice\n",
    "\n",
    "train_data = [ (inputTensor(name),targetTensor(name)) for name in names ]\n",
    "\n",
    "hidden_size = 128\n",
    "num_epochs = 500\n",
    "criterion = nn.NLLLoss()\n",
    "learning_rate = 0.0005\n",
    "model = RNN(n_letters, hidden_size, n_letters)\n",
    "optimizer = optim.Adam(model.parameters(), lr=learning_rate)\n",
    "\n",
    "\n",
    "def train(model, train_data, num_epochs, optimizer, criterion ):\n",
    "    all_losses = []\n",
    "\n",
    "    for epoch in tqdm(range(num_epochs)):\n",
    "\n",
    "        shuffle(train_data)\n",
    "        loss_agg = 0\n",
    "\n",
    "        for input_line_tensor, target_line_tensor in train_data:\n",
    "\n",
    "            optimizer.zero_grad()\n",
    "\n",
    "            outputs = model.forward(input_line_tensor)\n",
    "\n",
    "            loss = torch.stack(\n",
    "                [ criterion(o_i, t_i) for o_i ,t_i in zip(outputs, target_line_tensor)]\n",
    "            ).sum()\n",
    "\n",
    "            loss.backward()\n",
    "            optimizer.step()\n",
    "            \n",
    "            loss_agg += loss.item()/ input_line_tensor.size(0)\n",
    "        \n",
    "        all_losses.append(loss_agg)\n",
    "            \n",
    "    return all_losses\n",
    "\n",
    "all_losses = train(\n",
    "    model=model, \n",
    "    train_data=train_data, \n",
    "    num_epochs=num_epochs, \n",
    "    optimizer=optimizer, \n",
    "    criterion=criterion)"
   ]
  },
  {
   "cell_type": "code",
   "execution_count": 9,
   "id": "84af223f",
   "metadata": {
    "scrolled": true
   },
   "outputs": [
    {
     "data": {
      "text/plain": [
       "[<matplotlib.lines.Line2D at 0x14dc68ee0>]"
      ]
     },
     "execution_count": 9,
     "metadata": {},
     "output_type": "execute_result"
    },
    {
     "data": {
      "image/png": "[encoded data removed]",
      "text/plain": [
       "<Figure size 432x288 with 1 Axes>"
      ]
     },
     "metadata": {
      "needs_background": "light"
     },
     "output_type": "display_data"
    }
   ],
   "source": [
    "import matplotlib.pyplot as plt\n",
    "\n",
    "# Let's inpsect the training loss\n",
    "plt.figure()\n",
    "plt.plot(all_losses)"
   ]
  },
  {
   "cell_type": "code",
   "execution_count": 10,
   "id": "655eb366",
   "metadata": {},
   "outputs": [
    {
     "name": "stdout",
     "output_type": "stream",
     "text": [
      "pilar\n",
      "francisca\n",
      "victória\n",
      "pilar\n",
      "carlos\n",
      "kevin\n",
      "kevin\n",
      "yasmin\n",
      "francisca\n",
      "martim\n"
     ]
    }
   ],
   "source": [
    "max_length = 20\n",
    "\n",
    "# Sample from a category and starting letter\n",
    "def sample(start_letter='a'):\n",
    "    with torch.no_grad():  # no need to track history in sampling\n",
    "        input = inputTensor(start_letter)\n",
    "        hidden = model.initial_hidden\n",
    "\n",
    "        output_name = start_letter\n",
    "\n",
    "        for i in range(max_length):\n",
    "            output, hidden = model.single_forward(input[0], hidden)\n",
    "            topv, topi = output.topk(1)\n",
    "            topi = topi[0][0]\n",
    "            if topi == n_letters - 1:\n",
    "                break\n",
    "            else:\n",
    "                letter = all_letters[topi]\n",
    "                output_name += letter\n",
    "            input = inputTensor(letter)\n",
    "\n",
    "        return output_name\n",
    "\n",
    "# generate 10 random names\n",
    "for _ in range(10):\n",
    "    # choose a starting letter from a-z\n",
    "    start_letter = choice(all_letters[:26])\n",
    "    print(sample(start_letter))"
   ]
  },
  {
   "cell_type": "markdown",
   "id": "5de9f503",
   "metadata": {},
   "source": [
    "## Question 03"
   ]
  },
  {
   "cell_type": "code",
   "execution_count": 11,
   "id": "e9548318",
   "metadata": {},
   "outputs": [
    {
     "name": "stdout",
     "output_type": "stream",
     "text": [
      "Number of training examples: 17500\n",
      "Number of validation examples: 7500\n",
      "Number of testing examples: 25000\n"
     ]
    }
   ],
   "source": [
    "import torch\n",
    "from torchtext.legacy import data , datasets\n",
    "\n",
    "TEXT = data.Field()\n",
    "LABEL = data.LabelField(dtype = torch.float)\n",
    "\n",
    "train_data, test_data = datasets.IMDB.splits(TEXT, LABEL)\n",
    "\n",
    "train_data, valid_data = train_data.split()\n",
    "\n",
    "# build the vocabulary\n",
    "TEXT.build_vocab(train_data, max_size = 20_000)\n",
    "LABEL.build_vocab(train_data)\n",
    "\n",
    "\n",
    "print(f'Number of training examples: {len(train_data)}')\n",
    "print(f'Number of validation examples: {len(valid_data)}')\n",
    "print(f'Number of testing examples: {len(test_data)}')"
   ]
  },
  {
   "cell_type": "code",
   "execution_count": 12,
   "id": "ec52467b",
   "metadata": {},
   "outputs": [],
   "source": [
    "BATCH_SIZE = 64\n",
    "\n",
    "device = torch.device('cuda' if torch.cuda.is_available() else 'cpu')\n",
    "\n",
    "train_iterator, valid_iterator, test_iterator = data.BucketIterator.splits(\n",
    "    (train_data, valid_data, test_data), \n",
    "    batch_size = BATCH_SIZE,\n",
    "    sort_within_batch = True,\n",
    "    device = device)"
   ]
  },
  {
   "cell_type": "code",
   "execution_count": 13,
   "id": "a7bfa34d",
   "metadata": {},
   "outputs": [],
   "source": [
    "import torch.nn as nn\n",
    "\n",
    "class RNN(nn.Module):\n",
    "    def __init__(self, vocab_size, embedding_dim, hidden_dim, output_dim):\n",
    "        \n",
    "        super().__init__()\n",
    "        self.embedding = nn.Embedding(vocab_size, embedding_dim)\n",
    "        self.rnn = nn.LSTM(embedding_dim, hidden_dim)       \n",
    "        self.fc = nn.Linear(hidden_dim, output_dim)\n",
    "        \n",
    "    def forward(self, text):\n",
    "\n",
    "        #text = [sent len, batch size]\n",
    "        #embedded = [sent len, batch size, emb dim]\n",
    "        embedded = self.embedding(text)\n",
    "                \n",
    "        #output = [sent len, batch size, hid dim * num directions]\n",
    "        #hidden = [num layers * num directions, batch size, hid dim]\n",
    "        #cell = [num layers * num directions, batch size, hid dim]\n",
    "        output, (hidden, cell) = self.rnn(embedded)\n",
    "        \n",
    "        #hidden = [batch size, hid dim * num directions]\n",
    "        hidden = hidden[-1,:,:]\n",
    "                \n",
    "        return self.fc(hidden)"
   ]
  },
  {
   "cell_type": "code",
   "execution_count": 14,
   "id": "548f9c99",
   "metadata": {},
   "outputs": [],
   "source": [
    "INPUT_DIM = len(TEXT.vocab)\n",
    "EMBEDDING_DIM = 100\n",
    "HIDDEN_DIM = 256\n",
    "OUTPUT_DIM = 1\n",
    "\n",
    "model = RNN(INPUT_DIM, \n",
    "            EMBEDDING_DIM, \n",
    "            HIDDEN_DIM, \n",
    "            OUTPUT_DIM)\n",
    "\n",
    "model = model.to(device)"
   ]
  },
  {
   "cell_type": "code",
   "execution_count": 15,
   "id": "d5b34f23",
   "metadata": {},
   "outputs": [
    {
     "name": "stdout",
     "output_type": "stream",
     "text": [
      "RNN(\n",
      "  (embedding): Embedding(20002, 100)\n",
      "  (rnn): LSTM(100, 256)\n",
      "  (fc): Linear(in_features=256, out_features=1, bias=True)\n",
      ")\n"
     ]
    }
   ],
   "source": [
    "print(model)"
   ]
  },
  {
   "cell_type": "code",
   "execution_count": 16,
   "id": "d73adc2b",
   "metadata": {},
   "outputs": [],
   "source": [
    "# let's run a forward pass to one batch to check the predictions and how to work with them.\n",
    "for batch in train_iterator:\n",
    "    text = batch.text\n",
    "    target = batch.label\n",
    "    predictions = model(text)\n",
    "    break"
   ]
  },
  {
   "cell_type": "code",
   "execution_count": 17,
   "id": "7b785e8c",
   "metadata": {},
   "outputs": [
    {
     "name": "stdout",
     "output_type": "stream",
     "text": [
      "torch.Size([64, 1])\n",
      "torch.Size([64])\n"
     ]
    }
   ],
   "source": [
    "print(predictions.shape)\n",
    "print(target.shape)"
   ]
  },
  {
   "cell_type": "code",
   "execution_count": 18,
   "id": "170a444f",
   "metadata": {},
   "outputs": [],
   "source": [
    "def binary_accuracy(preds, y):\n",
    "    \"\"\"\n",
    "    Returns accuracy per batch, i.e. if you get 8/10 right, this returns 0.8, NOT 8\n",
    "    \"\"\"\n",
    "\n",
    "    #round predictions to the closest integer\n",
    "    rounded_preds = torch.round(torch.sigmoid(preds))\n",
    "    correct = (rounded_preds == y).float() #convert into float for division \n",
    "    acc = correct.sum() / len(correct)\n",
    "    return acc"
   ]
  },
  {
   "cell_type": "code",
   "execution_count": 19,
   "id": "d1e60099",
   "metadata": {},
   "outputs": [
    {
     "data": {
      "text/plain": [
       "tensor(0.4688)"
      ]
     },
     "execution_count": 19,
     "metadata": {},
     "output_type": "execute_result"
    }
   ],
   "source": [
    "binary_accuracy(predictions.squeeze(1), target)"
   ]
  },
  {
   "cell_type": "code",
   "execution_count": 20,
   "id": "c768bb2f",
   "metadata": {},
   "outputs": [],
   "source": [
    "def train(model, iterator, optimizer, criterion):\n",
    "    \n",
    "    epoch_loss = 0\n",
    "    epoch_acc = 0\n",
    "    \n",
    "    model.train()\n",
    "    \n",
    "    for batch in iterator:\n",
    "        \n",
    "        optimizer.zero_grad()\n",
    "        \n",
    "        text = batch.text\n",
    "        \n",
    "        predictions = model(text).squeeze(1)\n",
    "        \n",
    "        loss = criterion(predictions, batch.label)\n",
    "        \n",
    "        acc = binary_accuracy(predictions, batch.label)\n",
    "        \n",
    "        loss.backward()\n",
    "        \n",
    "        optimizer.step()\n",
    "        \n",
    "        epoch_loss += loss.item()\n",
    "        epoch_acc += acc.item()\n",
    "        \n",
    "    return epoch_loss / len(iterator), epoch_acc / len(iterator)"
   ]
  },
  {
   "cell_type": "code",
   "execution_count": 21,
   "id": "39297ade",
   "metadata": {},
   "outputs": [],
   "source": [
    "def evaluate(model, iterator, criterion):\n",
    "    \n",
    "    epoch_loss = 0\n",
    "    epoch_acc = 0\n",
    "    \n",
    "    model.eval()\n",
    "    \n",
    "    with torch.no_grad():\n",
    "    \n",
    "        for batch in iterator:\n",
    "\n",
    "            text = batch.text\n",
    "            \n",
    "            predictions = model(text).squeeze(1)\n",
    "            \n",
    "            loss = criterion(predictions, batch.label)\n",
    "            \n",
    "            acc = binary_accuracy(predictions, batch.label)\n",
    "\n",
    "            epoch_loss += loss.item()\n",
    "            epoch_acc += acc.item()\n",
    "        \n",
    "    return epoch_loss / len(iterator), epoch_acc / len(iterator)"
   ]
  },
  {
   "cell_type": "code",
   "execution_count": 22,
   "id": "050d4748",
   "metadata": {},
   "outputs": [],
   "source": [
    "import torch.optim as optim\n",
    "\n",
    "criterion = nn.BCEWithLogitsLoss()\n",
    "criterion = criterion.to(device)"
   ]
  },
  {
   "cell_type": "code",
   "execution_count": null,
   "id": "c5aaef9b",
   "metadata": {},
   "outputs": [],
   "source": [
    "optimizer = optim.Adam(model.parameters())\n",
    "\n",
    "# Train for 5 epochs\n",
    "for epoch in range(5):\n",
    "\n",
    "    train_loss, train_acc = train(model, train_iterator, optimizer, criterion)\n",
    "    valid_loss, valid_acc = evaluate(model, valid_iterator, criterion)\n",
    "\n",
    "    print(f'Epoch: {epoch+1:02}')\n",
    "    print(f'\\tTrain Loss: {train_loss:.3f} | Train Acc: {train_acc*100:.2f}%')\n",
    "    print(f'\\t Val. Loss: {valid_loss:.3f} |  Val. Acc: {valid_acc*100:.2f}%')\n",
    "    "
   ]
  },
  {
   "cell_type": "code",
   "execution_count": 24,
   "id": "2248ea09",
   "metadata": {},
   "outputs": [
    {
     "name": "stdout",
     "output_type": "stream",
     "text": [
      "\t Val. Loss: 0.401 |  Val. Acc: 82.33%\n"
     ]
    }
   ],
   "source": [
    "test_loss, test_acc = evaluate(model, test_iterator, criterion)\n",
    "print(f'\\t Val. Loss: {test_loss:.3f} |  Val. Acc: {test_acc*100:.2f}%')"
   ]
  },
  {
   "cell_type": "markdown",
   "id": "cb39e81b",
   "metadata": {},
   "source": [
    "Let's do some changes to use a bidirectional LSTM and implement some other improvements."
   ]
  },
  {
   "cell_type": "code",
   "execution_count": 25,
   "id": "7662d89f",
   "metadata": {},
   "outputs": [],
   "source": [
    "import torch.nn as nn\n",
    "\n",
    "class RNN(nn.Module):\n",
    "    def __init__(self, vocab_size, embedding_dim, hidden_dim, output_dim, n_layers, bidirectional, dropout):\n",
    "        \n",
    "        super().__init__()\n",
    "        \n",
    "        self.embedding = nn.Embedding(vocab_size, embedding_dim)\n",
    "        self.bidirectional = bidirectional\n",
    "        \n",
    "        self.rnn = nn.LSTM(embedding_dim, \n",
    "                            hidden_dim, \n",
    "                            num_layers=n_layers, \n",
    "                            bidirectional=bidirectional, \n",
    "                            dropout=dropout)\n",
    "        \n",
    "        if self.bidirectional:\n",
    "            self.fc = nn.Linear(hidden_dim * 2, output_dim)\n",
    "        else:\n",
    "            self.fc = nn.Linear(hidden_dim, output_dim)\n",
    "        \n",
    "        self.dropout = nn.Dropout(dropout)\n",
    "        \n",
    "    def forward(self, text):\n",
    "\n",
    "        #text = [sent len, batch size]\n",
    "        #embedded = [sent len, batch size, emb dim]\n",
    "        embedded = self.dropout(self.embedding(text))\n",
    "                \n",
    "        #output = [sent len, batch size, hid dim * num directions]\n",
    "        #hidden = [num layers * num directions, batch size, hid dim]\n",
    "        #cell = [num layers * num directions, batch size, hid dim]\n",
    "        output, (hidden, cell) = self.rnn(embedded)\n",
    "        \n",
    "        #hidden = [batch size, hid dim * num directions]\n",
    "        if self.bidirectional:\n",
    "            #concat the final forward (hidden[-2,:,:]) and backward (hidden[-1,:,:]) hidden layers\n",
    "            hidden = self.dropout(torch.cat((hidden[-2,:,:], hidden[-1,:,:]), dim = 1))\n",
    "        else:\n",
    "            hidden = self.dropout(hidden[-1,:,:])\n",
    "                \n",
    "        return self.fc(hidden)"
   ]
  },
  {
   "cell_type": "code",
   "execution_count": 26,
   "id": "f37cf56c",
   "metadata": {},
   "outputs": [],
   "source": [
    "INPUT_DIM = len(TEXT.vocab)\n",
    "EMBEDDING_DIM = 100\n",
    "HIDDEN_DIM = 256\n",
    "OUTPUT_DIM = 1\n",
    "N_LAYERS = 1\n",
    "BIDIRECTIONAL = True\n",
    "DROPOUT = 0.5\n",
    "\n",
    "model = RNN(INPUT_DIM, \n",
    "            EMBEDDING_DIM, \n",
    "            HIDDEN_DIM, \n",
    "            OUTPUT_DIM, \n",
    "            N_LAYERS, \n",
    "            BIDIRECTIONAL, \n",
    "            DROPOUT)\n",
    "\n",
    "model = model.to(device)"
   ]
  },
  {
   "cell_type": "code",
   "execution_count": null,
   "id": "7ea38e5b",
   "metadata": {},
   "outputs": [],
   "source": [
    "optimizer = optim.Adam(model.parameters())\n",
    "\n",
    "for epoch in range(5):\n",
    "\n",
    "    train_loss, train_acc = train(model, train_iterator, optimizer, criterion)\n",
    "    valid_loss, valid_acc = evaluate(model, valid_iterator, criterion)\n",
    "\n",
    "    print(f'Epoch: {epoch+1:02}')\n",
    "    print(f'\\tTrain Loss: {train_loss:.3f} | Train Acc: {train_acc*100:.2f}%')\n",
    "    print(f'\\t Val. Loss: {valid_loss:.3f} |  Val. Acc: {valid_acc*100:.2f}%')"
   ]
  },
  {
   "cell_type": "code",
   "execution_count": null,
   "id": "e6adb7b6",
   "metadata": {},
   "outputs": [],
   "source": [
    "test_loss, test_acc = evaluate(model, test_iterator, criterion)\n",
    "print(f'\\t Val. Loss: {test_loss:.3f} |  Val. Acc: {test_acc*100:.2f}%')"
   ]
  }
 ],
 "metadata": {
  "kernelspec": {
   "display_name": "IST_DL21_Env",
   "language": "python",
   "name": "python3"
  },
  "language_info": {
   "codemirror_mode": {
    "name": "ipython",
    "version": 3
   },
   "file_extension": ".py",
   "mimetype": "text/x-python",
   "name": "python",
   "nbconvert_exporter": "python",
   "pygments_lexer": "ipython3",
   "version": "3.8.15 (default, Nov 24 2022, 14:38:14) [MSC v.1916 64 bit (AMD64)]"
  },
  "vscode": {
   "interpreter": {
    "hash": "39588832346e6fff290b37d28f3feb0f1ef0d8dff7e4e62b0d2ba026b79f5b84"
   }
  }
 },
 "nbformat": 4,
 "nbformat_minor": 5
}
