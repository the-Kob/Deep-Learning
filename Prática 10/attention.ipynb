{
 "cells": [
  {
   "cell_type": "code",
   "execution_count": 2,
   "id": "improving-payment",
   "metadata": {},
   "outputs": [
    {
     "data": {
      "text/plain": [
       "<torch._C.Generator at 0x117626930>"
      ]
     },
     "execution_count": 2,
     "metadata": {},
     "output_type": "execute_result"
    }
   ],
   "source": [
    "import random\n",
    "\n",
    "import numpy as np\n",
    "import torch\n",
    "import torch.nn as nn\n",
    "import torch.nn.functional as F\n",
    "\n",
    "%matplotlib inline\n",
    "\n",
    "random.seed(5)\n",
    "np.random.seed(5)\n",
    "torch.random.manual_seed(5)"
   ]
  },
  {
   "cell_type": "markdown",
   "id": "f1d49658",
   "metadata": {},
   "source": [
    "### Question 1.1"
   ]
  },
  {
   "cell_type": "code",
   "execution_count": 3,
   "id": "violent-pulse",
   "metadata": {},
   "outputs": [
    {
     "name": "stdout",
     "output_type": "stream",
     "text": [
      "(4, 3)\n"
     ]
    }
   ],
   "source": [
    "x1 = np.array([-2.0, 1.0, 0.5])\n",
    "x2 = np.array([1.0, 1.5, -0.5])\n",
    "x3 = np.array([-1.5, 1.0, -0.5])\n",
    "x4 = np.array([-2.0, -2.5, 1.5])\n",
    "\n",
    "X = np.array([x1, x2, x3, x4])\n",
    "\n",
    "print(X.shape)"
   ]
  },
  {
   "cell_type": "code",
   "execution_count": 4,
   "id": "dressed-oracle",
   "metadata": {},
   "outputs": [
    {
     "name": "stdout",
     "output_type": "stream",
     "text": [
      "3\n",
      "[4.5 0.  4.5 0. ]\n",
      "[2.59807621 0.         2.59807621 0.        ]\n",
      "[0.46536883 0.03463117 0.46536883 0.03463117]\n",
      "[-1.66342208  0.8961065   0.03463117]\n"
     ]
    }
   ],
   "source": [
    "q = np.array([-2.0, 1.0, -1.0])\n",
    "\n",
    "print(np.size(q))\n",
    "\n",
    "scores = X.dot(q) / np.sqrt(np.size(q))\n",
    "probabilities = np.exp(scores) / np.sum(np.exp(scores))\n",
    "output = X.T.dot(probabilities)\n",
    "\n",
    "print(X.dot(q))\n",
    "print(scores)\n",
    "print(probabilities)\n",
    "print(output)"
   ]
  },
  {
   "cell_type": "markdown",
   "id": "relevant-centre",
   "metadata": {},
   "source": [
    "### Question 1.2"
   ]
  },
  {
   "cell_type": "code",
   "execution_count": 5,
   "id": "opposed-trailer",
   "metadata": {},
   "outputs": [
    {
     "name": "stdout",
     "output_type": "stream",
     "text": [
      "[[-2.25  4.5 ]\n",
      " [ 1.25  2.  ]\n",
      " [-1.25  4.75]\n",
      " [-2.75 -3.5 ]]\n",
      "[[ 5.75  1.5 ]\n",
      " [ 2.   -0.5 ]\n",
      " [ 4.5   2.  ]\n",
      " [-2.5   0.5 ]]\n",
      "[[-2.5  -7.5 ]\n",
      " [ 0.25  0.  ]\n",
      " [-2.   -5.25]\n",
      " [-0.75 -1.5 ]]\n",
      "1.4142135623730951\n",
      "[[ -4.37522321  -4.77297077  -0.79549513   5.5684659 ]\n",
      " [  7.20365033   1.06066017   6.80590277  -1.50260191]\n",
      " [ -0.04419417  -3.44714556   2.74003878   3.8890873 ]\n",
      " [-14.89343658  -2.65165043 -13.70019389   3.62392225]]\n",
      "[[4.79433566e-05 3.22098620e-05 1.71943035e-03 9.98200416e-01]\n",
      " [5.97319598e-01 1.28333499e-03 4.01298182e-01 9.88847812e-05]\n",
      " [1.46423661e-02 4.87223528e-04 2.37021787e-01 7.47848624e-01]\n",
      " [9.06143069e-09 1.87817885e-03 2.98824011e-08 9.98121782e-01]]\n",
      "[[-0.75220098 -1.50668721]\n",
      " [-2.29564869 -6.58686077]\n",
      " [-1.07141415 -2.47595506]\n",
      " [-0.74812187 -1.4971829 ]]\n",
      "[1. 1. 1. 1.]\n"
     ]
    }
   ],
   "source": [
    "W_Q = np.array([[1, -1.5], [0, 2], [-0.5, -1]])\n",
    "W_K = np.array([[-1.5, -1], [2.5, 0], [0.5, -1]])\n",
    "W_V = np.array([[1, 2.5], [-0.5, -2], [0, -1]])\n",
    "\n",
    "#print(W_Q)\n",
    "#print(W_K)\n",
    "#print(W_V)\n",
    "\n",
    "Q = X.dot(W_Q)\n",
    "K = X.dot(W_K)\n",
    "V = X.dot(W_V)\n",
    "\n",
    "print(Q)\n",
    "print(K)\n",
    "print(V)\n",
    "\n",
    "print(np.sqrt(np.size(Q, 1)))\n",
    "\n",
    "scores = Q.dot(K.T) / np.sqrt(np.size(Q, 1))\n",
    "probabilities = np.exp(scores) / np.sum(np.exp(scores), axis=1)[:, None]\n",
    "\n",
    "Z = probabilities.dot(V)\n",
    "\n",
    "print(scores)\n",
    "print(probabilities)\n",
    "print(Z)\n",
    "\n",
    "print(probabilities.sum(axis=1))"
   ]
  },
  {
   "cell_type": "code",
   "execution_count": 6,
   "id": "animated-barrel",
   "metadata": {},
   "outputs": [
    {
     "data": {
      "text/plain": [
       "<matplotlib.image.AxesImage at 0x156c7d370>"
      ]
     },
     "execution_count": 6,
     "metadata": {},
     "output_type": "execute_result"
    },
    {
     "data": {
      "image/png": "[encoded data removed]",
      "text/plain": [
       "<Figure size 432x288 with 1 Axes>"
      ]
     },
     "metadata": {
      "needs_background": "light"
     },
     "output_type": "display_data"
    }
   ],
   "source": [
    "import matplotlib.pyplot as plt\n",
    "plt.imshow(probabilities)"
   ]
  },
  {
   "cell_type": "markdown",
   "id": "bibliographic-funds",
   "metadata": {},
   "source": [
    "### Question 1.3"
   ]
  },
  {
   "cell_type": "code",
   "execution_count": 7,
   "id": "patient-wyoming",
   "metadata": {},
   "outputs": [
    {
     "name": "stdout",
     "output_type": "stream",
     "text": [
      "[[4.79433566e-05 3.22098620e-05 1.71943035e-03 9.98200416e-01]\n",
      " [5.97319598e-01 1.28333499e-03 4.01298182e-01 9.88847812e-05]\n",
      " [1.46423661e-02 4.87223528e-04 2.37021787e-01 7.47848624e-01]\n",
      " [9.06143069e-09 1.87817885e-03 2.98824011e-08 9.98121782e-01]]\n",
      "[[-0.75220098 -1.50668721]\n",
      " [-2.29564869 -6.58686077]\n",
      " [-1.07141415 -2.47595506]\n",
      " [-0.74812187 -1.4971829 ]]\n"
     ]
    },
    {
     "data": {
      "image/png": "[encoded data removed]",
      "text/plain": [
       "<Figure size 432x288 with 1 Axes>"
      ]
     },
     "metadata": {
      "needs_background": "light"
     },
     "output_type": "display_data"
    },
    {
     "name": "stdout",
     "output_type": "stream",
     "text": [
      "[[1.18306921e-01 2.01966211e-02 1.68483136e-01 6.93013322e-01]\n",
      " [8.48429312e-04 9.98944583e-01 2.06267364e-04 7.20592823e-07]\n",
      " [2.67590116e-02 7.79843042e-04 5.42703523e-02 9.18190793e-01]\n",
      " [2.47463407e-05 6.12522986e-10 2.06437556e-04 9.99768815e-01]]\n",
      "[[-2.26628332 -2.26628332]\n",
      " [ 1.99725652  1.99725652]\n",
      " [-2.82066255 -2.82066255]\n",
      " [-2.99952526 -2.99952526]]\n"
     ]
    },
    {
     "data": {
      "image/png": "[encoded data removed]",
      "text/plain": [
       "<Figure size 432x288 with 1 Axes>"
      ]
     },
     "metadata": {
      "needs_background": "light"
     },
     "output_type": "display_data"
    },
    {
     "name": "stdout",
     "output_type": "stream",
     "text": [
      "[[-0.75220098 -1.50668721 -2.26628332 -2.26628332]\n",
      " [-2.29564869 -6.58686077  1.99725652  1.99725652]\n",
      " [-1.07141415 -2.47595506 -2.82066255 -2.82066255]\n",
      " [-0.74812187 -1.4971829  -2.99952526 -2.99952526]]\n",
      "[[-6.04664898  3.77781072 -0.75731086]\n",
      " [ 8.28741825  0.14750295 10.57968068]\n",
      " [-7.3905735   5.09982766 -0.01158073]\n",
      " [-8.25045389  4.87428797 -1.50140321]]\n"
     ]
    }
   ],
   "source": [
    "W_O = np.array([[-1, 1.5, 2], [0, -1, -2], [1, -1.5, 0], [2, 0, 1]])\n",
    "\n",
    "W_Q_heads = [W_Q, np.ones_like(W_Q)]\n",
    "W_K_heads = [W_K, np.ones_like(W_K)]\n",
    "W_V_heads = [W_V, np.ones_like(W_V)]\n",
    "\n",
    "head_representations = []\n",
    "\n",
    "for W_Q_h, W_K_h, W_V_h in zip(W_Q_heads, W_K_heads, W_V_heads):\n",
    "    Q_h = X.dot(W_Q_h)\n",
    "    K_h = X.dot(W_K_h)\n",
    "    V_h = X.dot(W_V_h)\n",
    "    scores = Q_h.dot(K_h.T) / np.sqrt(np.size(Q_h, 1))\n",
    "    probabilities = np.exp(scores) / np.sum(np.exp(scores), axis=1)[:, None]\n",
    "    Z_h = probabilities.dot(V_h)\n",
    "    head_representations.append(Z_h)\n",
    "    print(probabilities)\n",
    "    print(Z_h)\n",
    "    plt.imshow(probabilities)\n",
    "    plt.show()\n",
    "    \n",
    "print(np.concatenate(head_representations, axis=1))\n",
    "\n",
    "Z = np.concatenate(head_representations, axis=1).dot(W_O)\n",
    "\n",
    "print(Z)"
   ]
  },
  {
   "cell_type": "markdown",
   "id": "f538217d",
   "metadata": {},
   "source": [
    "### Question 2"
   ]
  },
  {
   "cell_type": "markdown",
   "id": "cd9e39cd",
   "metadata": {},
   "source": [
    "In this exercise, you will implement a sequence-to-sequence network that reverses strings with the help of attention. We will randomly generate strings consisting of \"a\", \"b\", \"c\", and \"d\"."
   ]
  },
  {
   "cell_type": "code",
   "execution_count": 8,
   "id": "dbb48a59",
   "metadata": {},
   "outputs": [
    {
     "name": "stdout",
     "output_type": "stream",
     "text": [
      "['ccadbabacdbd', 'ababdcbdbab', 'dbbaabbbbccb', 'bbbdcacdbbc', 'ccac', 'cccd', 'cbddbacacdadcd', 'adabbabdcccd', 'ccad', 'bccb']\n"
     ]
    }
   ],
   "source": [
    "BOS = \"<s>\"\n",
    "EOS = \"</s>\"\n",
    "\n",
    "raw_vocab = list(\"abcd\")\n",
    "itos = [BOS, EOS] + raw_vocab\n",
    "stoi = {n: i for i, n in enumerate(itos)}\n",
    "vocab_size = len(itos)  # Plus BOS/EOS\n",
    "\n",
    "N = 200\n",
    "valid_size = 100\n",
    "\n",
    "def sample_string(min_length, max_length):\n",
    "    length = random.randrange(min_length, max_length)\n",
    "    return \"\".join([random.choice(raw_vocab) for _ in range(length)])\n",
    "\n",
    "def sample_strings(min_length, max_length, size):\n",
    "    return [sample_string(min_length, max_length) for _ in range(size)]\n",
    "\n",
    "def to_tensor(name):\n",
    "    indices = [stoi[BOS]] + [stoi[n] for n in name] + [stoi[EOS]]\n",
    "    return torch.tensor(indices, dtype=torch.long).unsqueeze(0)\n",
    "\n",
    "def make_dataset(lines):\n",
    "    dataset = [(to_tensor(line), to_tensor(reversed(line))) for line in lines]\n",
    "    return dataset\n",
    "\n",
    "train_lines = sample_strings(3, 15, N)\n",
    "valid_lines = sample_strings(3, 15, valid_size)\n",
    "\n",
    "train_dataset = make_dataset(train_lines)\n",
    "valid_dataset = make_dataset(valid_lines)\n",
    "\n",
    "print(train_lines[:10])"
   ]
  },
  {
   "cell_type": "markdown",
   "id": "4c4dc806",
   "metadata": {},
   "source": [
    "The first part of the model is an RNN-based encoder:"
   ]
  },
  {
   "cell_type": "code",
   "execution_count": 15,
   "id": "ad9671f8",
   "metadata": {},
   "outputs": [],
   "source": [
    "class Encoder(nn.Module):\n",
    "    def __init__(self, vocab_size, embedding_size, hidden_size, bidirectional=False):\n",
    "        super(Encoder, self).__init__()\n",
    "\n",
    "        self.embeddings = nn.Embedding(vocab_size, embedding_size)\n",
    "\n",
    "        if bidirectional:\n",
    "            hidden_size //= 2\n",
    "        self.rnn = nn.LSTM(\n",
    "            embedding_size, \n",
    "            hidden_size, \n",
    "            bidirectional=bidirectional, \n",
    "            batch_first=True\n",
    "        )\n",
    "\n",
    "    def forward(self, input, hidden=None):\n",
    "        \"\"\"\n",
    "        input (LongTensor): batch x src length\n",
    "        src length (batch-length list0: If given, the input will be packed\n",
    "        hidden: hidden or hidden/cell state input dimensions for the RNN type\n",
    "        returns:\n",
    "            output (FloatTensor): batch x src length x hidden size\n",
    "            hidden_n (FloatTensor): hidden or hidden/cell state input\n",
    "                dimensions for the RNN type\n",
    "        \"\"\"\n",
    "        emb = self.embeddings(input)\n",
    "        output, hidden_n = self.rnn(emb, hidden)\n",
    "        if self.rnn.bidirectional:\n",
    "            hidden_n = self._reshape_hidden(hidden_n)\n",
    "        return output, hidden_n\n",
    "\n",
    "    def _merge_tensor(self, state_tensor):\n",
    "        forward_states = state_tensor[::2]\n",
    "        backward_states = state_tensor[1::2]\n",
    "        return torch.cat([forward_states, backward_states], 2)\n",
    "\n",
    "    def _reshape_hidden(self, hidden):\n",
    "        \"\"\"\n",
    "        hidden:\n",
    "            num_layers * num_directions x batch x self.hidden_size // 2\n",
    "            or a tuple of these\n",
    "        returns:\n",
    "            num_layers\n",
    "        \"\"\"\n",
    "        assert self.rnn.bidirectional\n",
    "        if isinstance(hidden, tuple):\n",
    "            return tuple(self._merge_tensor(h) for h in hidden)\n",
    "        else:\n",
    "            return self._merge_tensor(hidden)"
   ]
  },
  {
   "cell_type": "markdown",
   "id": "d964f08c",
   "metadata": {},
   "source": [
    "We also need to define a decoder. This implementation works both with and without an attention mechanism."
   ]
  },
  {
   "cell_type": "code",
   "execution_count": 16,
   "id": "057b604e",
   "metadata": {},
   "outputs": [],
   "source": [
    "class Decoder(nn.Module):\n",
    "    def __init__(self, vocab_size, embedding_size, hidden_size, attn=None):\n",
    "        super(Decoder, self).__init__()\n",
    "        self.embeddings = nn.Embedding(vocab_size, embedding_size)\n",
    "        self.rnn = nn.LSTM(embedding_size, hidden_size, batch_first=True)\n",
    "        self.output_layer = nn.Linear(hidden_size, vocab_size)\n",
    "        self.attn = attn\n",
    "\n",
    "    def forward(self, input, context, hidden):\n",
    "        \"\"\"\n",
    "        input (LongTensor): batch x tgt length\n",
    "        context (FloatTensor): batch x src length x hidden size\n",
    "        hidden: hidden or hidden/cell state input dimensions for the RNN type\n",
    "        returns (FloatTensor): (batch*tgt length) x output size\n",
    "        \"\"\"\n",
    "        emb = self.embeddings(input)\n",
    "        output, hidden_n = self.rnn(emb, hidden)\n",
    "\n",
    "        alignment = None\n",
    "        # apply attention between source context and query from\n",
    "        # decoder RNN\n",
    "        if self.attn is not None:\n",
    "            output, alignment = self.attn(output, context)\n",
    "\n",
    "        flat_output = output.contiguous().view(-1, self.rnn.hidden_size)\n",
    "        return self.output_layer(flat_output), alignment"
   ]
  },
  {
   "cell_type": "markdown",
   "id": "43860e02",
   "metadata": {},
   "source": [
    "We can put them together into an encoder-decoder model class, like this:"
   ]
  },
  {
   "cell_type": "code",
   "execution_count": 17,
   "id": "e5557b0e",
   "metadata": {},
   "outputs": [],
   "source": [
    "class Seq2Seq(nn.Module):\n",
    "    def __init__(self, encoder, decoder):\n",
    "        super(Seq2Seq, self).__init__()\n",
    "        self.encoder = encoder\n",
    "        self.decoder = decoder\n",
    "\n",
    "    def forward(self, src, tgt):\n",
    "        \"\"\"\n",
    "        src, tgt (LongTensor): (batch size x sequence length)\n",
    "        returns (FloatTensor): (batch*tgt length) x output size\n",
    "        \"\"\"\n",
    "        context, enc_hidden = self.encoder(src)\n",
    "        return self.decoder(tgt, context=context, hidden=enc_hidden)"
   ]
  },
  {
   "cell_type": "markdown",
   "id": "2e5dbdc9",
   "metadata": {},
   "source": [
    "With our base model defined, we can write training and validation code:"
   ]
  },
  {
   "cell_type": "code",
   "execution_count": 18,
   "id": "8959b3a8",
   "metadata": {},
   "outputs": [],
   "source": [
    "def train_epoch(model, train_iter, loss, optimizer):\n",
    "    epoch_loss = 0.0\n",
    "    model.train()\n",
    "    random.shuffle(train_iter)  # present examples in random order\n",
    "    for src, tgt in train_iter:\n",
    "        model.zero_grad()\n",
    "        tgt_in = tgt[:, :-1]\n",
    "        pred, _ = model(src, tgt_in)\n",
    "        gold = tgt[:, 1:].contiguous().view(-1)\n",
    "\n",
    "        batch_loss = loss(pred, gold)\n",
    "        batch_loss.backward()\n",
    "        optimizer.step()\n",
    "        epoch_loss += batch_loss.item()\n",
    "    return epoch_loss\n",
    "\n",
    "\n",
    "def validate(model, data_iter):\n",
    "    model.eval()\n",
    "    n_correct = 0\n",
    "    n_total = 0\n",
    "    with torch.no_grad():\n",
    "        for src, tgt in data_iter:\n",
    "            tgt_in = tgt[:, :-1]\n",
    "            pred = model(src, tgt_in)[0].argmax(dim=1)\n",
    "            gold = tgt[:, 1:].contiguous().view(-1)\n",
    "            n_correct += (pred == gold).sum().item()\n",
    "            n_total += gold.size(0)\n",
    "        return n_correct / n_total\n",
    "\n",
    "\n",
    "def train(model, train, valid, epochs=30, learning_rate=0.5):\n",
    "    loss = nn.CrossEntropyLoss()\n",
    "    optimizer = torch.optim.SGD(model.parameters(), lr=learning_rate)\n",
    "\n",
    "    train_losses = []\n",
    "    valid_accs = []\n",
    "    epochs = list(range(1, epochs + 1))\n",
    "    for epoch in epochs:\n",
    "        print('Training epoch {}'.format(epoch))\n",
    "        train_loss = train_epoch(model, train, loss, optimizer)\n",
    "        train_losses.append(train_loss)\n",
    "        valid_acc = validate(model, valid)\n",
    "        valid_accs.append(valid_acc)\n",
    "        print('Train loss: {} ; Validation acc: {}'.format(train_loss, valid_acc))"
   ]
  },
  {
   "cell_type": "markdown",
   "id": "32421fb3",
   "metadata": {},
   "source": [
    "Train a unidirectional model without attention:"
   ]
  },
  {
   "cell_type": "code",
   "execution_count": 19,
   "id": "5cf2d5f5",
   "metadata": {},
   "outputs": [
    {
     "name": "stdout",
     "output_type": "stream",
     "text": [
      "Seq2Seq(\n",
      "  (encoder): Encoder(\n",
      "    (embeddings): Embedding(6, 6)\n",
      "    (rnn): LSTM(6, 64, batch_first=True)\n",
      "  )\n",
      "  (decoder): Decoder(\n",
      "    (embeddings): Embedding(6, 6)\n",
      "    (rnn): LSTM(6, 64, batch_first=True)\n",
      "    (output_layer): Linear(in_features=64, out_features=6, bias=True)\n",
      "  )\n",
      ")\n",
      "Training epoch 1\n",
      "Train loss: 321.6173617839813 ; Validation acc: 0.21871599564744287\n",
      "Training epoch 2\n",
      "Train loss: 314.5878132581711 ; Validation acc: 0.24374319912948858\n",
      "Training epoch 3\n",
      "Train loss: 311.40864992141724 ; Validation acc: 0.24483133841131666\n",
      "Training epoch 4\n",
      "Train loss: 302.0876899957657 ; Validation acc: 0.30467899891186073\n",
      "Training epoch 5\n",
      "Train loss: 280.0403906106949 ; Validation acc: 0.32861806311207836\n",
      "Training epoch 6\n",
      "Train loss: 252.06888407468796 ; Validation acc: 0.367791077257889\n",
      "Training epoch 7\n",
      "Train loss: 240.5655066370964 ; Validation acc: 0.44178454842219805\n",
      "Training epoch 8\n",
      "Train loss: 222.34247043728828 ; Validation acc: 0.49836779107725787\n",
      "Training epoch 9\n",
      "Train loss: 202.32590752840042 ; Validation acc: 0.5690968443960827\n",
      "Training epoch 10\n",
      "Train loss: 186.37792070955038 ; Validation acc: 0.5636561479869423\n",
      "Training epoch 11\n",
      "Train loss: 166.40333053469658 ; Validation acc: 0.6539717083786725\n",
      "Training epoch 12\n",
      "Train loss: 154.96789521723986 ; Validation acc: 0.6256800870511425\n",
      "Training epoch 13\n",
      "Train loss: 142.93639708310366 ; Validation acc: 0.6974972796517954\n",
      "Training epoch 14\n",
      "Train loss: 129.50957854278386 ; Validation acc: 0.750816104461371\n",
      "Training epoch 15\n",
      "Train loss: 121.79228046350181 ; Validation acc: 0.6855277475516867\n",
      "Training epoch 16\n",
      "Train loss: 114.97754304856062 ; Validation acc: 0.7094668117519043\n",
      "Training epoch 17\n",
      "Train loss: 98.03939318470657 ; Validation acc: 0.7747551686615887\n",
      "Training epoch 18\n",
      "Train loss: 93.48300758749247 ; Validation acc: 0.7845484221980413\n",
      "Training epoch 19\n",
      "Train loss: 90.27981984382495 ; Validation acc: 0.7899891186071817\n",
      "Training epoch 20\n",
      "Train loss: 77.29049127455801 ; Validation acc: 0.7878128400435256\n",
      "Training epoch 21\n",
      "Train loss: 78.23951551923528 ; Validation acc: 0.8324265505984766\n",
      "Training epoch 22\n",
      "Train loss: 72.50530843716115 ; Validation acc: 0.8052230685527747\n",
      "Training epoch 23\n",
      "Train loss: 65.12976488936692 ; Validation acc: 0.8128400435255713\n",
      "Training epoch 24\n",
      "Train loss: 62.22007679147646 ; Validation acc: 0.8280739934711643\n",
      "Training epoch 25\n",
      "Train loss: 60.39888472785242 ; Validation acc: 0.8465723612622416\n",
      "Training epoch 26\n",
      "Train loss: 56.14480369747616 ; Validation acc: 0.8302502720348205\n",
      "Training epoch 27\n",
      "Train loss: 54.18179729941767 ; Validation acc: 0.8302502720348205\n",
      "Training epoch 28\n",
      "Train loss: 48.06646375160199 ; Validation acc: 0.8280739934711643\n",
      "Training epoch 29\n",
      "Train loss: 39.795042789541185 ; Validation acc: 0.8389553862894451\n",
      "Training epoch 30\n",
      "Train loss: 52.13874210277572 ; Validation acc: 0.8433079434167573\n",
      "Training epoch 31\n",
      "Train loss: 47.36617806646973 ; Validation acc: 0.8291621327529923\n",
      "Training epoch 32\n",
      "Train loss: 39.336181659135036 ; Validation acc: 0.8509249183895539\n",
      "Training epoch 33\n",
      "Train loss: 36.418385865632445 ; Validation acc: 0.8258977149075082\n",
      "Training epoch 34\n",
      "Train loss: 36.226696672150865 ; Validation acc: 0.8661588683351469\n",
      "Training epoch 35\n",
      "Train loss: 25.227022941282485 ; Validation acc: 0.8705114254624592\n",
      "Training epoch 36\n",
      "Train loss: 37.27447834808845 ; Validation acc: 0.8628944504896626\n",
      "Training epoch 37\n",
      "Train loss: 32.050380388769554 ; Validation acc: 0.8607181719260065\n",
      "Training epoch 38\n",
      "Train loss: 30.29406469326932 ; Validation acc: 0.8683351468988031\n",
      "Training epoch 39\n",
      "Train loss: 27.635538705944782 ; Validation acc: 0.8574537540805223\n",
      "Training epoch 40\n",
      "Train loss: 23.632056825765176 ; Validation acc: 0.8596300326441785\n",
      "Training epoch 41\n",
      "Train loss: 30.07283775685937 ; Validation acc: 0.8628944504896626\n",
      "Training epoch 42\n",
      "Train loss: 21.734947333912714 ; Validation acc: 0.8607181719260065\n",
      "Training epoch 43\n",
      "Train loss: 16.206716568412958 ; Validation acc: 0.8737758433079434\n",
      "Training epoch 44\n",
      "Train loss: 23.5461353562132 ; Validation acc: 0.8302502720348205\n",
      "Training epoch 45\n",
      "Train loss: 23.969940600160044 ; Validation acc: 0.8639825897714908\n",
      "Training epoch 46\n",
      "Train loss: 16.859995011778665 ; Validation acc: 0.8726877040261154\n",
      "Training epoch 47\n",
      "Train loss: 20.785299404582474 ; Validation acc: 0.8824809575625681\n",
      "Training epoch 48\n",
      "Train loss: 14.41157994288369 ; Validation acc: 0.8705114254624592\n",
      "Training epoch 49\n",
      "Train loss: 16.775881042180117 ; Validation acc: 0.8487486398258978\n",
      "Training epoch 50\n",
      "Train loss: 14.489260943642876 ; Validation acc: 0.85310119695321\n"
     ]
    }
   ],
   "source": [
    "embedding_size = vocab_size\n",
    "hidden_size = 64\n",
    "\n",
    "enc = Encoder(vocab_size, embedding_size, hidden_size)\n",
    "dec = Decoder(vocab_size, embedding_size, hidden_size)\n",
    "enc.embeddings.weight.data = torch.eye(vocab_size)\n",
    "dec.embeddings.weight.data = enc.embeddings.weight.data\n",
    "enc.embeddings.weight.requires_grad = False\n",
    "dec.embeddings.weight.requires_grad = False\n",
    "\n",
    "model = Seq2Seq(enc, dec)\n",
    "print(model)\n",
    "\n",
    "train(model, train_dataset, valid_dataset, epochs=50)"
   ]
  },
  {
   "cell_type": "markdown",
   "id": "cf88e301",
   "metadata": {},
   "source": [
    "This model often manages to predict the right sequence, but it also often fails. Note that the decoder makes use of the *last* hidden state from the encoder, which has recently seen the final time step of the source sequence (in other words, the first element it needs to predict), but the other elements less recently. If only there were a way to make it easier for the model to focus on less recent positions...\n",
    "\n",
    "The attention mechanism is an extra layer for the decoder that can do precisely this. In this exercise, we consider a simple but effective attention mechanism called *dot product attention*.\n"
   ]
  },
  {
   "cell_type": "code",
   "execution_count": 21,
   "id": "5dd55f2a",
   "metadata": {},
   "outputs": [],
   "source": [
    "class DotProdAttention(nn.Module):\n",
    "\n",
    "    def __init__(self, hidden_size):\n",
    "        super().__init__()\n",
    "        self.mlp = nn.Sequential(\n",
    "            nn.Linear(hidden_size * 2, hidden_size),\n",
    "            nn.Tanh()\n",
    "        )\n",
    "\n",
    "    def forward(self, query, context):\n",
    "        \"\"\"\n",
    "        query: batch x tgt_length x hidden_size\n",
    "        context: batch x src_length x hidden_size\n",
    "        \"\"\"\n",
    "        tgt_batch, tgt_len, tgt_hidden = query.size()\n",
    "        src_batch, src_len, src_hidden = context.size()\n",
    "        attn_scores = torch.bmm(query, context.transpose(1, 2))\n",
    "        alignment = torch.softmax(attn_scores, 2)\n",
    "        c = torch.bmm(alignment, context)\n",
    "        attn_h_t = self.mlp(torch.cat([c, query], dim=2))\n",
    "        return attn_h_t, alignment"
   ]
  },
  {
   "cell_type": "markdown",
   "id": "06d56b9e",
   "metadata": {},
   "source": [
    "Now that attention has been implemented, we can train the model:"
   ]
  },
  {
   "cell_type": "code",
   "execution_count": 22,
   "id": "fb3e6acd",
   "metadata": {},
   "outputs": [
    {
     "name": "stdout",
     "output_type": "stream",
     "text": [
      "Seq2Seq(\n",
      "  (encoder): Encoder(\n",
      "    (embeddings): Embedding(6, 6)\n",
      "    (rnn): LSTM(6, 32, batch_first=True, bidirectional=True)\n",
      "  )\n",
      "  (decoder): Decoder(\n",
      "    (embeddings): Embedding(6, 6)\n",
      "    (rnn): LSTM(6, 64, batch_first=True)\n",
      "    (output_layer): Linear(in_features=64, out_features=6, bias=True)\n",
      "    (attn): DotProdAttention(\n",
      "      (mlp): Sequential(\n",
      "        (0): Linear(in_features=128, out_features=64, bias=True)\n",
      "        (1): Tanh()\n",
      "      )\n",
      "    )\n",
      "  )\n",
      ")\n",
      "Training epoch 1\n",
      "Train loss: 323.3171902894974 ; Validation acc: 0.2970620239390642\n",
      "Training epoch 2\n",
      "Train loss: 307.8389209508896 ; Validation acc: 0.3558215451577802\n",
      "Training epoch 3\n",
      "Train loss: 278.0971790552139 ; Validation acc: 0.17845484221980412\n",
      "Training epoch 4\n",
      "Train loss: 244.63097456097603 ; Validation acc: 0.4047878128400435\n",
      "Training epoch 5\n",
      "Train loss: 194.5210478901863 ; Validation acc: 0.719260065288357\n",
      "Training epoch 6\n",
      "Train loss: 120.59430788457394 ; Validation acc: 0.8813928182807399\n",
      "Training epoch 7\n",
      "Train loss: 42.478179505094886 ; Validation acc: 0.9532100108813928\n",
      "Training epoch 8\n",
      "Train loss: 23.710292062081862 ; Validation acc: 0.984766050054407\n",
      "Training epoch 9\n",
      "Train loss: 13.080233365355525 ; Validation acc: 0.984766050054407\n",
      "Training epoch 10\n",
      "Train loss: 7.509345229467726 ; Validation acc: 0.9836779107725789\n",
      "Training epoch 11\n",
      "Train loss: 2.1899635198205942 ; Validation acc: 0.998911860718172\n",
      "Training epoch 12\n",
      "Train loss: 0.5873596607416403 ; Validation acc: 0.9967355821545157\n",
      "Training epoch 13\n",
      "Train loss: 0.31321665963332634 ; Validation acc: 0.9956474428726877\n",
      "Training epoch 14\n",
      "Train loss: 0.26936489673971664 ; Validation acc: 0.998911860718172\n",
      "Training epoch 15\n",
      "Train loss: 0.36754418490090757 ; Validation acc: 1.0\n",
      "Training epoch 16\n",
      "Train loss: 0.13098835148048238 ; Validation acc: 0.9978237214363439\n",
      "Training epoch 17\n",
      "Train loss: 0.07573139200758305 ; Validation acc: 1.0\n",
      "Training epoch 18\n",
      "Train loss: 0.0442355618433794 ; Validation acc: 1.0\n",
      "Training epoch 19\n",
      "Train loss: 0.03942857300717151 ; Validation acc: 1.0\n",
      "Training epoch 20\n",
      "Train loss: 0.03561293949314859 ; Validation acc: 1.0\n",
      "Training epoch 21\n",
      "Train loss: 0.032497035406777286 ; Validation acc: 1.0\n",
      "Training epoch 22\n",
      "Train loss: 0.029893240634919493 ; Validation acc: 1.0\n",
      "Training epoch 23\n",
      "Train loss: 0.027674177041262737 ; Validation acc: 1.0\n",
      "Training epoch 24\n",
      "Train loss: 0.02576795702589152 ; Validation acc: 1.0\n",
      "Training epoch 25\n",
      "Train loss: 0.024103457562887343 ; Validation acc: 1.0\n",
      "Training epoch 26\n",
      "Train loss: 0.02264278964139521 ; Validation acc: 1.0\n",
      "Training epoch 27\n",
      "Train loss: 0.0213495231437264 ; Validation acc: 1.0\n",
      "Training epoch 28\n",
      "Train loss: 0.02019345318149135 ; Validation acc: 1.0\n",
      "Training epoch 29\n",
      "Train loss: 0.019156646067131078 ; Validation acc: 1.0\n",
      "Training epoch 30\n",
      "Train loss: 0.01822057438766933 ; Validation acc: 1.0\n"
     ]
    }
   ],
   "source": [
    "attn = DotProdAttention(hidden_size)\n",
    "enc = Encoder(vocab_size, embedding_size, hidden_size, bidirectional=True)\n",
    "dec = Decoder(vocab_size, embedding_size, hidden_size, attn=attn)\n",
    "enc.embeddings.weight.data = torch.eye(vocab_size)\n",
    "dec.embeddings.weight.data = enc.embeddings.weight.data\n",
    "enc.embeddings.weight.requires_grad = False\n",
    "dec.embeddings.weight.requires_grad = False\n",
    "\n",
    "attn_model = Seq2Seq(enc, dec)\n",
    "print(attn_model)\n",
    "\n",
    "train(attn_model, train_dataset, valid_dataset, epochs=30)"
   ]
  },
  {
   "cell_type": "markdown",
   "id": "7d2b4132",
   "metadata": {},
   "source": [
    "We can also visualize the model's attention matrix:"
   ]
  },
  {
   "cell_type": "code",
   "execution_count": 24,
   "id": "2fba04b2",
   "metadata": {},
   "outputs": [
    {
     "data": {
      "text/plain": [
       "<matplotlib.image.AxesImage at 0x15714ad00>"
      ]
     },
     "execution_count": 24,
     "metadata": {},
     "output_type": "execute_result"
    },
    {
     "data": {
      "image/png": "[encoded data removed]",
      "text/plain": [
       "<Figure size 288x288 with 1 Axes>"
      ]
     },
     "metadata": {
      "needs_background": "light"
     },
     "output_type": "display_data"
    }
   ],
   "source": [
    "import matplotlib.pyplot as plt\n",
    "\n",
    "string = \"abacadabacc\"  # try something\n",
    "reversed_string = reversed(string)\n",
    "\n",
    "src = to_tensor(string)\n",
    "tgt = to_tensor(reversed_string)\n",
    "\n",
    "with torch.no_grad():\n",
    "    _, alignment = attn_model(src, tgt)\n",
    "\n",
    "attn_matrix = alignment.squeeze(0).numpy()\n",
    "plt.matshow(attn_matrix)"
   ]
  },
  {
   "cell_type": "code",
   "execution_count": null,
   "id": "31f9df9f",
   "metadata": {},
   "outputs": [],
   "source": []
  },
  {
   "cell_type": "code",
   "execution_count": null,
   "id": "87029bc8",
   "metadata": {},
   "outputs": [],
   "source": []
  }
 ],
 "metadata": {
  "kernelspec": {
   "display_name": "IST_DL21_Env",
   "language": "python",
   "name": "python3"
  },
  "language_info": {
   "codemirror_mode": {
    "name": "ipython",
    "version": 3
   },
   "file_extension": ".py",
   "mimetype": "text/x-python",
   "name": "python",
   "nbconvert_exporter": "python",
   "pygments_lexer": "ipython3",
   "version": "3.8.15 (default, Nov 24 2022, 14:38:14) [MSC v.1916 64 bit (AMD64)]"
  },
  "vscode": {
   "interpreter": {
    "hash": "39588832346e6fff290b37d28f3feb0f1ef0d8dff7e4e62b0d2ba026b79f5b84"
   }
  }
 },
 "nbformat": 4,
 "nbformat_minor": 5
}
